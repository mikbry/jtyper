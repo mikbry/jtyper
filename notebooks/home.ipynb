{
  "cells": [
   {
    "cell_type": "markdown",
    "metadata": {},
    "source": [
     "# Welcome to JTyper !\nJTyper is your notebook app for coding, data science and machine learning. It runs in your browser using modern javascript. And it is compatible with latest frameworks like Tensorflow.js."
    ]
   }, 
   {
    "cell_type": "markdown",
    "metadata": {},
    "source": [
     "Run this code to see how JTyper simply works ! Mac: `⌘+enter` PC: `Ctrl+enter` "
    ]
   }, 
   {
    "cell_type": "code",
    "metadata": {},
    "source": [
     "print('hello world !');"
    ]
   },
      {
    "cell_type": "markdown",
    "metadata": {},
    "source": [
     "This website is made with JTyper. It is experimental and it is open-source.\n\nWe need your support, [don't forget to star JTyper on Github](https://github.com/mikbry/jtyper)"
    ]
   }, 
   {
    "cell_type": "markdown",
    "metadata": {},
    "source": [
     "## Why JTyper ?\nWe are at a crossroad in Web development : Javascript ecosystem is strong (ReactJs, Node.js, ...) and new technologies are rising (Typescript, WASM, WebGPU, Deno). Running heavy computational applications in browser will be soon a really. JTyper is a vision of this future. Where applications will run transparently some processes on a PC, a smartphone, and distribute others to a cluster of servers. \n\nSo we outline some mandatories points:\n- No complex installation needed, no VM\n- Run in modern browsers using using standard technologies as Javascript and WASM\n- Compatible with ipynb files and Jupyter common usages\n- Small in size\n- Open-source\n\nGoing further:\n- [Javascript third age](https://www.swyx.io/writing/js-third-age/)\n- [The WebAssembly App Gap](https://paulbutler.org/2020/the-webassembly-app-gap/)"
    ]
   }, 
   {
    "cell_type": "markdown",
    "metadata": {},
    "source": [
     "## Examples\n- [First example](/p/jtyper/first%20example)\n- [Tensorflow.js](/p/jtyper/tensorflowjs)"
    ]
   }, 
   {
    "cell_type": "markdown",
    "metadata": {},
    "source": [
     "## RoadMap\n\nJTyper is experimental and on its first iteration.\n\n### v0.1.0 - [Current version](https://github.com/mikbry/jtyper/projects/1)\n\n### Future versions\n\n- WASM support\n- Other maths and AI frameworks (as PyTorch)\n- Typescript and more languages support\n- Collaboration\n- Distributed computing"
    ]
   }, 
   {
    "cell_type": "markdown",
    "metadata": {},
    "source": [
     "## Requirements\n- Works on modern browsers supporting ES6+ (Not compatible with IE)"
    ]
   }, 
   {
    "cell_type": "markdown",
    "metadata": {},
    "source": [
     "## Contribute\n\nContributions welcome! Read the [contribution guidelines](CONTRIBUTING.md) first."
    ]
   }, 
   {
    "cell_type": "markdown",
    "metadata": {},
    "source": [
     "## License\n\nReleased under MIT License"
    ]
   },
   {
    "cell_type": "markdown",
    "metadata": {},
    "source": [
     "Made by Mik BRY / Miklabs © 2020"
    ]
   }
  ],
  "metadata": {
   "kernelspec": {
    "display_name": "ES6",
    "language": "javascript",
    "name": "ES6"
   },
   "language_info": {
    "codemirror_mode": {
     "name": "javascript"
    },
    "file_extension": ".js",
    "mimetype": "text/javascript",
    "name": "javascript",
    "nbconvert_exporter": "javascript"
   }
  },
  "nbformat": 4,
  "nbformat_minor": 1
 }