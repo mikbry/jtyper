{
  "cells": [
   {
    "cell_type": "markdown",
    "metadata": {},
    "source": [
     "# This notebook will show you how easy it is to create one !"
    ]
   }, 
   {
    "cell_type": "markdown",
    "metadata": {},
    "source": [
     "A JTyper notebook is a list of cells. Each cells could have 3 types: raw, markdown and code. You can view and edit an editable notebook by clicking on a cell."
    ]
   }, 
   {
    "cell_type": "raw",
    "metadata": {},
    "source": [
     "A raw cell don't have any properties, like this one."
    ]
   },
   {
    "cell_type": "markdown",
    "metadata": {},
    "source": [
     "**A markdown cell** could be formated using Markdown syntax."
    ]
   },
   {
    "cell_type": "code",
    "metadata": {},
    "source": [
     "// A code cell is a javascript sourcecode\n// and could be run using `⌘+enter` on Mac or `Ctrl+enter` on PC \nprint('hellow world !');"
    ]
   },
   {
    "cell_type": "markdown",
    "metadata": {},
    "source": [
     "**In a code cell** you could define variable using `let` or constant using `const` "
    ]
   },
   {
    "cell_type": "code",
    "metadata": {},
    "source": [
     "const name = 'Bob'; \nlet age;\nprint('My name is ' + Bob + '. My age is ' + temp);\nage = 32;\nprint('my age is', age);"
    ]
   },
   {
    "cell_type": "markdown",
    "metadata": {},
    "source": [
     "All code cells share **same context**. So variables and constants set previously are defined. A line with only a name will display it's value. If the variable doesn't exist it will display an error."
    ]
   },
   {
    "cell_type": "code",
    "metadata": {},
    "source": [
     "name\nage\ncountry"
    ]
   }
  ],
  "metadata": {
   "kernelspec": {
    "display_name": "ES6",
    "language": "javascript",
    "name": "ES6"
   },
   "language_info": {
    "codemirror_mode": {
     "name": "javascript"
    },
    "file_extension": ".js",
    "mimetype": "text/javascript",
    "name": "javascript",
    "nbconvert_exporter": "javascript"
   }
  },
  "nbformat": 4,
  "nbformat_minor": 1
 }