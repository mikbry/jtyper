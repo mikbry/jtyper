{
  "cells": [
   {
    "cell_type": "markdown",
    "metadata": {},
    "source": [
     "# Welcome to JTyper"
    ]
   }, 
   {
    "cell_type": "markdown",
    "metadata": {},
    "source": [
     "## This notebook will show you how easy it is to create one !"
    ]
   }, 
   {
    "cell_type": "markdown",
    "metadata": {},
    "source": [
     "Try this code to see how JTyper works !"
    ]
   }, 
   {
    "cell_type": "code",
    "metadata": {},
    "source": [
     "print('hellow world !')"
    ]
   }
  ],
  "metadata": {
   "kernelspec": {
    "display_name": "ES6",
    "language": "javascript",
    "name": "ES6"
   },
   "language_info": {
    "codemirror_mode": {
     "name": "javascript"
    },
    "file_extension": ".js",
    "mimetype": "text/javascript",
    "name": "javascript",
    "nbconvert_exporter": "javascript"
   }
  },
  "nbformat": 4,
  "nbformat_minor": 1
 }