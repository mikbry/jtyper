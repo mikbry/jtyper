{
  "cells": [
   {
    "cell_type": "markdown",
    "metadata": {},
    "source": [
     "# Tensorflow.js example"
    ]
   }, 
   {
    "cell_type": "markdown",
    "metadata": {},
    "source": [
     "This notebook explains how to use Tensorflow.js.\nFirst you need to import the module using ESM syntax:"
    ]
   }, 
   {
    "cell_type": "code",
    "metadata": {},
    "source": [
     "import tf from '@tensorflow/tfjs';\nprint('imported');"
    ]
   },
   {
    "cell_type": "markdown",
    "metadata": {},
    "source": [
     "Define a model for linear regression."
    ]
   }, 
   {
    "cell_type": "code",
    "metadata": {},
    "source": [
     "const model = tf.sequential();\nmodel.add(tf.layers.dense({units: 1, inputShape: [1]}));\nmodel.compile({loss: 'meanSquaredError', optimizer: 'sgd'});"
    ]
   },
   {
    "cell_type": "markdown",
    "metadata": {},
    "source": [
     "Generate some synthetic data for training."
    ]
   }, 
   {
    "cell_type": "code",
    "metadata": {},
    "source": [
     "const xs = tf.tensor2d([1, 2, 3, 4], [4, 1]);\nconst ys = tf.tensor2d([1, 3, 5, 7], [4, 1]);"
    ]
   },
   {
    "cell_type": "markdown",
    "metadata": {},
    "source": [
     "Train the model using the data."
    ]
   }, 
   {
    "cell_type": "code",
    "metadata": {},
    "source": [
     "await model.fit(xs, ys, {epochs: 10});"
    ]
   },
   {
    "cell_type": "markdown",
    "metadata": {},
    "source": [
     "Use the model to do inference on a data point the model hasn't seen before. And finally print to the output the result"
    ]
   }, 
   {
    "cell_type": "code",
    "metadata": {},
    "source": [
     "model.predict(tf.tensor2d([5], [1, 1])).print();"
    ]
   }      
  ],
  "metadata": {
   "kernelspec": {
    "display_name": "ES6",
    "language": "javascript",
    "name": "ES6"
   },
   "language_info": {
    "codemirror_mode": {
     "name": "javascript"
    },
    "file_extension": ".js",
    "mimetype": "text/javascript",
    "name": "javascript",
    "nbconvert_exporter": "javascript"
   }
  },
  "nbformat": 4,
  "nbformat_minor": 1
 }